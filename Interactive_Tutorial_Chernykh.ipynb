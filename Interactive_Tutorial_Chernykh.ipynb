{
 "cells": [
  {
   "cell_type": "markdown",
   "metadata": {},
   "source": [
    "<h1>Лекция: \"Теория графов встречает линейную алгебру\"<h1>"
   ]
  },
  {
   "cell_type": "markdown",
   "metadata": {},
   "source": [
    "**План занятия:**\n",
    "<ol>\n",
    "<li>Что такое матрица смежности и что по ней можно определить</li>\n",
    "<li>Теорема о числе (i,j)-путей длины k</li>\n",
    "<li>Характеристический полином графа G</li>\n",
    "<li>Характеризация спектральных свойств k-регулярных графов</li>\n",
    "<li>Спектр графа</li>\n",
    "<li>Изоспектральные графы</li>\n",
    "</ol>"
   ]
  },
  {
   "cell_type": "markdown",
   "metadata": {},
   "source": [
    "**1. Что такое матрица смежности и что по ней можно определить**"
   ]
  },
  {
   "cell_type": "markdown",
   "metadata": {},
   "source": [
    "**Определение** Пусть Г = (V,E), |V| = n,\n",
    "тогда матрица смежности графа - квадратная бинарная матрица порядка n, элементы которой определяются следующим образом:\n",
    "$$A(\\Gamma) = (A_{ij})_{n \\times n} = \n",
    "\\begin{cases}\n",
    "1,\\ & i\\sim j;\\\\\n",
    "0,\\ & i \\nsim j\n",
    "\\end{cases}\n",
    "$$"
   ]
  },
  {
   "cell_type": "code",
   "execution_count": 1,
   "metadata": {},
   "outputs": [],
   "source": [
    "import ipywidgets as widgets\n",
    "import networkx as nx\n",
    "import matplotlib.pyplot as plt"
   ]
  },
  {
   "cell_type": "code",
   "execution_count": 2,
   "metadata": {},
   "outputs": [],
   "source": [
    "G = nx.Graph()\n",
    "G.add_nodes_from([1,2,3,4,5,6])\n",
    "G.add_edges_from([(1, 2), (1, 3), (2,6), (3, 4),(3,5),(2,4),(2,5), (3,6)])"
   ]
  },
  {
   "cell_type": "code",
   "execution_count": 5,
   "metadata": {},
   "outputs": [
    {
     "data": {
      "image/png": "[encoded data removed]",
      "text/plain": [
       "<Figure size 432x288 with 1 Axes>"
      ]
     },
     "metadata": {},
     "output_type": "display_data"
    }
   ],
   "source": [
    "plt.subplot(224)\n",
    "options = {'node_color': \"orange\",\n",
    "          'width': 3,}\n",
    "nx.draw(G, **options, with_labels=True, font_weight='bold')\n",
    "plt.show()"
   ]
  },
  {
   "cell_type": "markdown",
   "metadata": {},
   "source": [
    "**Рассмотрим граф, приведённый выше. Как выглядит его матрица смежности?**\n",
    "\n",
    "$$\n",
    "1 = \n",
    "\\begin{pmatrix}\n",
    "&\\textbf{1} & \\textbf{2} & \\textbf{3} & \\textbf{4} & \\textbf{5} & \\textbf{6}\\\\\n",
    "\\textbf{1} & 0& 1& 1& 1& 0&1\\\\\n",
    "\\textbf{2} & 1& 0& 1& 1& 1&1\\\\\n",
    "\\textbf{3} & 0& 0& 0& 0& 0&0\\\\\n",
    "\\textbf{4} & 1& 1& 0& 1& 1&1\\\\\n",
    "\\textbf{5} & 0& 1& 0& 1& 1&1\\\\\n",
    "\\textbf{6} & 0& 1& 1& 0& 0&0\\\\\n",
    "\\end{pmatrix}\n",
    "\\quad 2 = \n",
    "\\begin{pmatrix}\n",
    "&\\textbf{1} & \\textbf{2} & \\textbf{3} & \\textbf{4} & \\textbf{5} & \\textbf{6}\\\\\n",
    "\\textbf{1} & 0& 1& 1& 0& 0& 0\\\\\n",
    "\\textbf{2} & 1& 0& 0& 1& 1& 1\\\\\n",
    "\\textbf{3} & 1& 0& 0& 1& 1& 1\\\\\n",
    "\\textbf{4} & 0& 1& 1& 0& 0& 0\\\\\n",
    "\\textbf{5} & 0& 1& 1& 0& 0& 0\\\\\n",
    "\\textbf{6} & 0& 1& 1& 0& 0& 0\\\\\n",
    "\\end{pmatrix}\n",
    "\\quad 3 = \n",
    "\\begin{pmatrix}\n",
    "&\\textbf{1} & \\textbf{2} & \\textbf{3} & \\textbf{4} & \\textbf{5} & \\textbf{6}\\\\\n",
    "\\textbf{1} & 1& 0& 0& 1& 1& 1\\\\\n",
    "\\textbf{2} & 0& 1& 1& 0& 0& 0\\\\\n",
    "\\textbf{3} & 0& 1& 1& 0& 0& 0\\\\\n",
    "\\textbf{4} & 1& 0& 0& 1& 1& 1\\\\\n",
    "\\textbf{5} & 1& 0& 0& 1& 1& 1\\\\\n",
    "\\textbf{6} & 1& 0& 0& 1& 1& 1\\\\\n",
    "\\end{pmatrix}\n",
    "$$"
   ]
  },
  {
   "cell_type": "code",
   "execution_count": 27,
   "metadata": {},
   "outputs": [
    {
     "data": {
      "application/vnd.jupyter.widget-view+json": {
       "model_id": "d7f68ebd62ce46a68aca62c49873c4e0",
       "version_major": 2,
       "version_minor": 0
      },
      "text/plain": [
       "RadioButtons(description='A = ', options=('1', '2', '3'), value=None)"
      ]
     },
     "metadata": {},
     "output_type": "display_data"
    }
   ],
   "source": [
    "radio = widgets.RadioButtons(\n",
    "    options=['1', '2', '3'],\n",
    "    value = None,\n",
    "    description='A = ',\n",
    "    disabled=False\n",
    ")\n",
    "radio"
   ]
  },
  {
   "cell_type": "code",
   "execution_count": 32,
   "metadata": {},
   "outputs": [
    {
     "name": "stdout",
     "output_type": "stream",
     "text": [
      "Неверно. Попробуйте ещё раз.\n"
     ]
    }
   ],
   "source": [
    "print(adj_matrix())"
   ]
  },
  {
   "cell_type": "code",
   "execution_count": 29,
   "metadata": {},
   "outputs": [],
   "source": [
    "def adj_matrix():\n",
    "    if(radio.value == '1'):\n",
    "        return 'Неверно. Попробуйте ещё раз.'\n",
    "    elif(radio.value == '2'):\n",
    "        return 'Верно, матрица смежности - 2.'\n",
    "    elif(radio.value == '3'):\n",
    "        return 'Неверно. Попробуйте ещё раз.'\n",
    "    else:\n",
    "        return 'Пожалуйста, выберите номер матрицы смежности.'\n",
    "        "
   ]
  },
  {
   "cell_type": "markdown",
   "metadata": {},
   "source": [
    "**Определение** Соседством вершины i в графе G называется множество смежных ей вершин.\n",
    "Обозначение: N(i) = {j: dist(i,j) = 1}, где dist(i,j) - расстояние от вершины i до вершины j.\n",
    "\n",
    "**Замечание** |N(i)| = deg(i)\n",
    "(Мощность соседства равна степени вершины i).\n",
    "\n",
    "**Определение** Следом матрицы A называется сумма диагональных элементов матрицы А.\n",
    "\n",
    "**Обозначение** $$Tr(A) = \\displaystyle\\sum_{i=1}^na_{ii}$$\n",
    "\n",
    "**Маршрут в графе** Если мы зафиксировали две вершины в обыкновенном связном графе, между этими двумя вершинами всегда можно проложить какой-то маршрут от вершины к вершины по ребрам. Ребра и вершины могут поввторяться.\n",
    "\n",
    "**Путь** - маршрут, в котором рёбра не повторяются.\n",
    "\n",
    "**Простой путь** - маршрут, в котором ни рёбра, ни вершины не повторяются.\n",
    "\n",
    "**Кратчайший путь** - кратчайшее расстояние между вершинами."
   ]
  },
  {
   "cell_type": "markdown",
   "metadata": {},
   "source": [
    "**Теорема о числе путей длины k между двумя фиксированными вершинами**\n",
    "Пусть $G = (V,E)$ порядка $n$ имеет матрицу смежности $A = A(G)$ и пусть $B = A^k$, где k - некоторое целое число. Тогда $b_{ij}$ равен числу (i,j)-путей длины k."
   ]
  },
  {
   "cell_type": "code",
   "execution_count": null,
   "metadata": {},
   "outputs": [],
   "source": []
  }
 ],
 "metadata": {
  "kernelspec": {
   "display_name": "Python 3",
   "language": "python",
   "name": "python3"
  },
  "language_info": {
   "codemirror_mode": {
    "name": "ipython",
    "version": 3
   },
   "file_extension": ".py",
   "mimetype": "text/x-python",
   "name": "python",
   "nbconvert_exporter": "python",
   "pygments_lexer": "ipython3",
   "version": "3.7.4"
  }
 },
 "nbformat": 4,
 "nbformat_minor": 2
}
