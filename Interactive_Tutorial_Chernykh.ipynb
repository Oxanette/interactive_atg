{
 "cells": [
  {
   "cell_type": "code",
   "execution_count": 24,
   "metadata": {},
   "outputs": [],
   "source": [
    "#Различный код, который потребуется далее.\n",
    "from IPython.display import Image\n",
    "import ipywidgets as widgets\n",
    "import networkx as nx\n",
    "import matplotlib.pyplot as plt\n",
    "from IPython.core.display import HTML \n",
    "\n",
    "def adj_matrix():\n",
    "    if(radio.value == '1'):\n",
    "        return 'Неверно. Попробуйте ещё раз.'\n",
    "    elif(radio.value == '2'):\n",
    "        return 'Верно, матрица смежности - 2.'\n",
    "    elif(radio.value == '3'):\n",
    "        return 'Неверно. Попробуйте ещё раз.'\n",
    "    else:\n",
    "        return 'Пожалуйста, выберите номер матрицы смежности.'\n"
   ]
  },
  {
   "cell_type": "markdown",
   "metadata": {},
   "source": [
    "<h1>Лекция №3:<h1>"
   ]
  },
  {
   "cell_type": "markdown",
   "metadata": {},
   "source": [
    "![title](label1.png)"
   ]
  },
  {
   "cell_type": "markdown",
   "metadata": {},
   "source": [
    "**План занятия:**\n",
    "<ol>\n",
    "<li>Матрица смежности и её свойства</li>\n",
    "<li>Теорема о числе (i,j)-путей длины k</li>\n",
    "<li>Характеристический полином графа Г</li>\n",
    "<li>Характеризация спектральных свойств k-регулярных графов</li>\n",
    "<li>Спектр графа</li>\n",
    "<li>Изоспектральные графы</li>\n",
    "</ol>"
   ]
  },
  {
   "cell_type": "markdown",
   "metadata": {},
   "source": [
    "![title](label_1.png)"
   ]
  },
  {
   "cell_type": "markdown",
   "metadata": {},
   "source": [
    "<img align=\"left\" src=\"defin.png\"> &nbsp; Пусть Г = (V,E), |V| = n,\n",
    "тогда матрица смежности графа $-$ квадратная бинарная матрица порядка n, элементы которой определяются следующим образом:\n",
    "$A(\\Gamma) = (A_{ij})_{n \\times n} = \n",
    "\\begin{cases}\n",
    "1,\\ & i\\sim j;\\\\\n",
    "0,\\ & i \\nsim j.\n",
    "\\end{cases}\n",
    "$"
   ]
  },
  {
   "cell_type": "code",
   "execution_count": 27,
   "metadata": {},
   "outputs": [
    {
     "data": {
      "image/png": "[encoded data removed]",
      "text/plain": [
       "<Figure size 432x288 with 1 Axes>"
      ]
     },
     "metadata": {},
     "output_type": "display_data"
    }
   ],
   "source": [
    "G_test = nx.Graph()\n",
    "G_test.add_nodes_from([1,2,3])\n",
    "G_test.add_edges_from([(1,2),(2,3)])\n",
    "plt.subplot(224)\n",
    "options = {'node_color': \"lightblue\",\n",
    "          'width': 2,}\n",
    "nx.draw(G_test, **options, with_labels=True, font_weight='bold')\n",
    "plt.title(\"Граф Г\")\n",
    "plt.show()"
   ]
  },
  {
   "cell_type": "markdown",
   "metadata": {},
   "source": [
    "Матрица смежности графа Г выглядит следующим образом:\n",
    "$\n",
    "A(Г) =\n",
    "\\begin{pmatrix}\n",
    "0 & 1 & 0 \\\\\n",
    "1 & 0 & 1 \\\\\n",
    "0 & 1 & 0\n",
    "\\end{pmatrix}\n",
    "$"
   ]
  },
  {
   "cell_type": "code",
   "execution_count": 11,
   "metadata": {},
   "outputs": [],
   "source": [
    "G = nx.Graph()\n",
    "G.add_nodes_from([1,2,3,4,5,6])\n",
    "G.add_edges_from([(1, 2), (1, 3), (2,6), (3, 4),(3,5),(2,4),(2,5), (3,6)])"
   ]
  },
  {
   "cell_type": "code",
   "execution_count": 28,
   "metadata": {},
   "outputs": [
    {
     "data": {
      "image/png": "[encoded data removed]",
      "text/plain": [
       "<Figure size 432x288 with 1 Axes>"
      ]
     },
     "metadata": {},
     "output_type": "display_data"
    }
   ],
   "source": [
    "plt.subplot(224)\n",
    "options = {'node_color': \"orange\",\n",
    "          'width': 3,}\n",
    "nx.draw(G, **options, with_labels=True, font_weight='bold')\n",
    "plt.title(\"Граф Г1\")\n",
    "plt.show()"
   ]
  },
  {
   "cell_type": "markdown",
   "metadata": {},
   "source": [
    "**Рассмотрим граф Г1, приведённый выше. Как выглядит его матрица смежности?**\n",
    "\n",
    "$$\n",
    "1 = \n",
    "\\begin{pmatrix}\n",
    "&\\textbf{1} & \\textbf{2} & \\textbf{3} & \\textbf{4} & \\textbf{5} & \\textbf{6}\\\\\n",
    "\\textbf{1} & 0& 1& 1& 1& 0&1\\\\\n",
    "\\textbf{2} & 1& 0& 1& 1& 1&1\\\\\n",
    "\\textbf{3} & 0& 0& 0& 0& 0&0\\\\\n",
    "\\textbf{4} & 1& 1& 0& 1& 1&1\\\\\n",
    "\\textbf{5} & 0& 1& 0& 1& 1&1\\\\\n",
    "\\textbf{6} & 0& 1& 1& 0& 0&0\\\\\n",
    "\\end{pmatrix}\n",
    "\\quad 2 = \n",
    "\\begin{pmatrix}\n",
    "&\\textbf{1} & \\textbf{2} & \\textbf{3} & \\textbf{4} & \\textbf{5} & \\textbf{6}\\\\\n",
    "\\textbf{1} & 0& 1& 1& 0& 0& 0\\\\\n",
    "\\textbf{2} & 1& 0& 0& 1& 1& 1\\\\\n",
    "\\textbf{3} & 1& 0& 0& 1& 1& 1\\\\\n",
    "\\textbf{4} & 0& 1& 1& 0& 0& 0\\\\\n",
    "\\textbf{5} & 0& 1& 1& 0& 0& 0\\\\\n",
    "\\textbf{6} & 0& 1& 1& 0& 0& 0\\\\\n",
    "\\end{pmatrix}\n",
    "\\quad 3 = \n",
    "\\begin{pmatrix}\n",
    "&\\textbf{1} & \\textbf{2} & \\textbf{3} & \\textbf{4} & \\textbf{5} & \\textbf{6}\\\\\n",
    "\\textbf{1} & 1& 0& 0& 1& 1& 1\\\\\n",
    "\\textbf{2} & 0& 1& 1& 0& 0& 0\\\\\n",
    "\\textbf{3} & 0& 1& 1& 0& 0& 0\\\\\n",
    "\\textbf{4} & 1& 0& 0& 1& 1& 1\\\\\n",
    "\\textbf{5} & 1& 0& 0& 1& 1& 1\\\\\n",
    "\\textbf{6} & 1& 0& 0& 1& 1& 1\\\\\n",
    "\\end{pmatrix}\n",
    "$$"
   ]
  },
  {
   "cell_type": "code",
   "execution_count": 15,
   "metadata": {},
   "outputs": [
    {
     "data": {
      "application/vnd.jupyter.widget-view+json": {
       "model_id": "61d637bc02024d1891a9475c7447131a",
       "version_major": 2,
       "version_minor": 0
      },
      "text/plain": [
       "RadioButtons(description='A = ', options=('1', '2', '3'), value=None)"
      ]
     },
     "metadata": {},
     "output_type": "display_data"
    }
   ],
   "source": [
    "radio = widgets.RadioButtons(\n",
    "    options=['1', '2', '3'],\n",
    "    value = None,\n",
    "    description='A = ',\n",
    "    disabled=False\n",
    ")\n",
    "radio"
   ]
  },
  {
   "cell_type": "code",
   "execution_count": 19,
   "metadata": {},
   "outputs": [
    {
     "name": "stdout",
     "output_type": "stream",
     "text": [
      "Верно, матрица смежности - 2.\n"
     ]
    }
   ],
   "source": [
    "print(adj_matrix())"
   ]
  },
  {
   "cell_type": "markdown",
   "metadata": {},
   "source": [
    "**Матрица смежности обыкновенного графа:**\n",
    "\n",
    "* симметричная\n",
    "* содержит нулевую диагональ (т.к. нет петель)\n",
    "* $\n",
    "\\displaystyle\\sum_{j=1}^na_{ij} = deg(i), \\quad i = \\overline{1,n}\n",
    "$ &nbsp; (сумма элементов любой строки совпадает со степенью соответствующей вершины графа).\n",
    "\n"
   ]
  },
  {
   "cell_type": "markdown",
   "metadata": {},
   "source": [
    "<img align=\"left\" src=\"defin.png\"> &nbsp; **Соседством вершины** $i$ в графе $G$ называется множество смежных ей вершин.<br>\n",
    "<img align=\"left\" src=\"obozn.png\">  <br> &nbsp; $N(i) = {j: dist(i,j) = 1}$, где $dist(i,j)$ - расстояние от вершины $i$ до вершины $j$.\n",
    "\n",
    "<img align=\"left\" src=\"zam.png\"> &nbsp; $|N(i)| = deg(i)$\n",
    "(Мощность соседства равна степени вершины $i$).\n",
    "\n",
    "<img align=\"left\" src=\"defin.png\"> &nbsp; **Следом** матрицы $A$ называется сумма диагональных элементов матрицы $A$.<br> <br> <br> \n",
    "\n",
    "\n",
    "<img align=\"left\" src=\"obozn.png\"> &nbsp; $Tr(A) = \\displaystyle\\sum_{i=1}^na_{ii}$\n",
    "\n",
    "**Маршрут в графе** <br>Если мы зафиксировали две вершины в обыкновенном связном графе, между этими двумя вершинами всегда можно проложить какой-то маршрут от вершины к вершине по ребрам. Ребра и вершины могут повторяться.\n",
    "\n",
    "<img align=\"left\" src=\"defin.png\"> &nbsp; **Путь** $-$ маршрут, в котором рёбра не повторяются. <br><br>\n",
    "\n",
    "<img align=\"left\" src=\"defin.png\"> &nbsp; **Простой путь** $-$ маршрут, в котором ни рёбра, ни вершины не повторяются.<br><br>\n",
    "\n",
    "<img align=\"left\" src=\"defin.png\"> &nbsp; **Кратчайший путь** $-$ кратчайшее расстояние между вершинами."
   ]
  },
  {
   "cell_type": "markdown",
   "metadata": {},
   "source": [
    "![title](punkt_2.png)\n",
    "\n",
    "Степени матрицы смежности задают **число путей** фиксированной длины между двумя заданными вершинами.<br>\n",
    "<img align=\"left\" src=\"theorem.png\"> <br><br><br>\n",
    "Пусть $\\Gamma = (V,E)$ имеет матрицу смежности $A = A(G)$ и пусть $B = A^k$, где $k$ - некоторое целое число. <br> Тогда $b_{ij}$ равен числу $(i,j)$-путей длины k в графе $\\Gamma$.<br>\n",
    "<img align=\"left\" src=\"proof.png\"><br><br><br>\n",
    "Воспользуемся индукцией по $k$.\n",
    "Пусть $k = 1, B = A^1 = A$, тогда теорема выполняется.\n",
    "\n",
    "Предположим, что условие теоремы выполняется для $k-1$, т.е. для $C = A^{k-1}$.<br>\n",
    "(Каждый элемент матрицы $C$ соответствует числу путей между вершинами $i$ и $j$ длины $k-1$).<br>\n",
    "Докажем индукционный переход от $k-1$ к $k$.<br>\n",
    "Рассмотрим элемент $b_{ij}$.<br>\n",
    "$B = C \\cdot A$<br>\n",
    "$b_{ij} = \\displaystyle\\sum_{s=1}^nc_{is}\\cdot a_{sj}$, где $c_{is} > 0$ и $a_{sj} > 0$.<br>\n",
    "По индукционному предположению:\n",
    "* $c_{is}$ $-$ это число $(i,s)$-путей длины $k-1$;\n",
    "* $a_{sj}$ соответствует дополнительному ребру $\\{s,j\\}$.<br>\n",
    "<img align=\"left\" src=\"ijpaths.png\">"
   ]
  },
  {
   "cell_type": "markdown",
   "metadata": {},
   "source": [
    "<img align=\"left\" src=\"defin.png\"> &nbsp; **След** матрицы $A$ порядка $n$ $-$ это сумма её диагональных элементов.<br>\n",
    "<img align=\"left\" src=\"obozn.png\"> &nbsp; $Tr(A) = \\displaystyle\\sum_{i=1}^na_{ii}$<br>\n",
    "<img align=\"left\" src=\"sled.png\"> <br>&nbsp; Число замкнутых путей длины $k$ в графе $\\Gamma$ равно $Tr(A^k)$.<br>\n",
    "<img align=\"left\" src=\"sled.png\"> <br>&nbsp; Для матрицы смежности $A$ любого обыкновенного графа $\\Gamma = (V,E)$ справедливо:<br>\n",
    "* $Tr(A^0) = Tr(I) = n$\n",
    "* $Tr(A) = 0$\n",
    "* $Tr(A^2) = 2 \\cdot m$, где $m = |E(\\Gamma)|$\n",
    "* $Tr(A^3) = 6 \\cdot t,$ где $t$ $-$ число циклов $C_3$ в графе $\\Gamma$\n",
    "Первый пункт очевиден, при возведении матрицы смежности в нулевую степень получаем единичную матрицу.<br>\n",
    "Второй пункт очевиден, в обыкновенном графе нет петель и кратных рёбер, следовательно все элементы на диагонали $-$ нули.<br>\n",
    "Третий пункт следует из того, что замкнутый путь длины 2 представляет собой проход по ребру и обратно в исходную вершину.<br>\n",
    "Четвертый пункт доказывается аналогично.\n"
   ]
  },
  {
   "cell_type": "markdown",
   "metadata": {},
   "source": [
    "![title](punkt_3.png)"
   ]
  },
  {
   "cell_type": "markdown",
   "metadata": {},
   "source": [
    "![title](punkt_4_1.png)\n",
    "![title](punkt_4_2.png)\n"
   ]
  },
  {
   "cell_type": "markdown",
   "metadata": {},
   "source": [
    "![title](punkt_5.png)"
   ]
  },
  {
   "cell_type": "markdown",
   "metadata": {},
   "source": [
    "![title](punkt_6.png)"
   ]
  },
  {
   "cell_type": "code",
   "execution_count": null,
   "metadata": {},
   "outputs": [],
   "source": []
  }
 ],
 "metadata": {
  "kernelspec": {
   "display_name": "Python 3",
   "language": "python",
   "name": "python3"
  },
  "language_info": {
   "codemirror_mode": {
    "name": "ipython",
    "version": 3
   },
   "file_extension": ".py",
   "mimetype": "text/x-python",
   "name": "python",
   "nbconvert_exporter": "python",
   "pygments_lexer": "ipython3",
   "version": "3.7.4"
  }
 },
 "nbformat": 4,
 "nbformat_minor": 2
}
