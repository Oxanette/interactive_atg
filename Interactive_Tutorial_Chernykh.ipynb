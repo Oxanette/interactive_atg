{
 "cells": [
  {
   "cell_type": "code",
   "execution_count": 99,
   "metadata": {},
   "outputs": [],
   "source": [
    "from IPython.display import Image\n",
    "import ipywidgets as widgets\n",
    "import networkx as nx\n",
    "import matplotlib.pyplot as plt\n",
    "from IPython.core.display import HTML \n",
    "import numpy as np\n",
    "import sympy as sp\n"
   ]
  },
  {
   "cell_type": "code",
   "execution_count": 100,
   "metadata": {},
   "outputs": [],
   "source": [
    "#Различный код, который потребуется далее.\n",
    "def adj_matrix():\n",
    "    if(radio.value == '1'):\n",
    "        return 'Неверно. Попробуйте ещё раз.'\n",
    "    elif(radio.value == '2'):\n",
    "        return 'Верно, матрица смежности - 2.'\n",
    "    elif(radio.value == '3'):\n",
    "        return 'Неверно. Попробуйте ещё раз.'\n",
    "    else:\n",
    "        return 'Пожалуйста, выберите номер матрицы смежности.'\n",
    "    \n",
    "def p4_spec():\n",
    "    if(radio2.value == 'A'):\n",
    "        return 'Верно. Спектр графа содержит три различных собственных значения.'\n",
    "    elif(radio2.value == 'B'):\n",
    "        return 'Неверно. Вернитесь к третьему пункту, перечитайте и попробуйте ещё раз.'\n",
    "    elif(radio2.value == 'C'):\n",
    "        return 'Неверно. Вернитесь к третьему пункту, перечитайте и попробуйте ещё раз.'\n",
    "    else:\n",
    "        return 'Пожалуйста, выберите спектр графа.'"
   ]
  },
  {
   "cell_type": "markdown",
   "metadata": {},
   "source": [
    "<h1>Лекция №3:<h1>"
   ]
  },
  {
   "cell_type": "markdown",
   "metadata": {},
   "source": [
    "![title](label1.png)"
   ]
  },
  {
   "cell_type": "markdown",
   "metadata": {},
   "source": [
    "**План занятия:**\n",
    "<ol>\n",
    "<li>Матрица смежности и её свойства</li>\n",
    "<li>Теорема о числе (i,j)-путей длины k</li>\n",
    "<li>Характеристический полином графа Г</li>\n",
    "<li>Характеризация спектральных свойств k-регулярных графов</li>\n",
    "<li>Спектр графа</li>\n",
    "<li>Изоспектральные графы</li>\n",
    "</ol>"
   ]
  },
  {
   "cell_type": "markdown",
   "metadata": {},
   "source": [
    "![title](label_1.png)"
   ]
  },
  {
   "cell_type": "markdown",
   "metadata": {},
   "source": [
    "<img align=\"left\" src=\"defin.png\"> &nbsp; Пусть Г = (V,E), |V| = n,\n",
    "тогда матрица смежности графа $-$ квадратная бинарная матрица порядка n, элементы которой определяются следующим образом:\n",
    "$A(\\Gamma) = (A_{ij})_{n \\times n} = \n",
    "\\begin{cases}\n",
    "1,\\ & i\\sim j;\\\\\n",
    "0,\\ & i \\nsim j.\n",
    "\\end{cases}\n",
    "$"
   ]
  },
  {
   "cell_type": "code",
   "execution_count": 101,
   "metadata": {},
   "outputs": [
    {
     "name": "stderr",
     "output_type": "stream",
     "text": [
      "C:\\Users\\Oxanette\\Anaconda3\\lib\\site-packages\\networkx\\drawing\\nx_pylab.py:579: MatplotlibDeprecationWarning: \n",
      "The iterable function was deprecated in Matplotlib 3.1 and will be removed in 3.3. Use np.iterable instead.\n",
      "  if not cb.iterable(width):\n"
     ]
    },
    {
     "data": {
      "image/png": "[encoded data removed]",
      "text/plain": [
       "<Figure size 432x288 with 1 Axes>"
      ]
     },
     "metadata": {},
     "output_type": "display_data"
    }
   ],
   "source": [
    "G_test = nx.Graph()\n",
    "G_test.add_nodes_from([1,2,3])\n",
    "G_test.add_edges_from([(1,2),(2,3)])\n",
    "plt.subplot(224)\n",
    "options = {'node_color': \"lightblue\",\n",
    "          'width': 2,}\n",
    "nx.draw(G_test, **options, with_labels=True, font_weight='bold')\n",
    "plt.title(\"Граф Г\")\n",
    "plt.show()"
   ]
  },
  {
   "cell_type": "markdown",
   "metadata": {},
   "source": [
    "Матрица смежности графа Г выглядит следующим образом:\n",
    "$\n",
    "A(Г) =\n",
    "\\begin{pmatrix}\n",
    "0 & 1 & 0 \\\\\n",
    "1 & 0 & 1 \\\\\n",
    "0 & 1 & 0\n",
    "\\end{pmatrix}\n",
    "$"
   ]
  },
  {
   "cell_type": "code",
   "execution_count": 102,
   "metadata": {},
   "outputs": [],
   "source": [
    "G = nx.Graph()\n",
    "G.add_nodes_from([1,2,3,4,5,6])\n",
    "G.add_edges_from([(1, 2), (1, 3), (2,6), (3, 4),(3,5),(2,4),(2,5), (3,6)])"
   ]
  },
  {
   "cell_type": "code",
   "execution_count": 103,
   "metadata": {},
   "outputs": [
    {
     "data": {
      "image/png": "[encoded data removed]",
      "text/plain": [
       "<Figure size 432x288 with 1 Axes>"
      ]
     },
     "metadata": {},
     "output_type": "display_data"
    }
   ],
   "source": [
    "plt.subplot(224)\n",
    "options = {'node_color': \"orange\",\n",
    "          'width': 3,}\n",
    "nx.draw(G, **options, with_labels=True, font_weight='bold')\n",
    "plt.title(\"Граф Г1\")\n",
    "plt.show()"
   ]
  },
  {
   "cell_type": "markdown",
   "metadata": {},
   "source": [
    "**Рассмотрим граф Г1, приведённый выше. Как выглядит его матрица смежности?**\n",
    "\n",
    "$$\n",
    "1 = \n",
    "\\begin{pmatrix}\n",
    "&\\textbf{1} & \\textbf{2} & \\textbf{3} & \\textbf{4} & \\textbf{5} & \\textbf{6}\\\\\n",
    "\\textbf{1} & 0& 1& 1& 1& 0&1\\\\\n",
    "\\textbf{2} & 1& 0& 1& 1& 1&1\\\\\n",
    "\\textbf{3} & 0& 0& 0& 0& 0&0\\\\\n",
    "\\textbf{4} & 1& 1& 0& 1& 1&1\\\\\n",
    "\\textbf{5} & 0& 1& 0& 1& 1&1\\\\\n",
    "\\textbf{6} & 0& 1& 1& 0& 0&0\\\\\n",
    "\\end{pmatrix}\n",
    "\\quad 2 = \n",
    "\\begin{pmatrix}\n",
    "&\\textbf{1} & \\textbf{2} & \\textbf{3} & \\textbf{4} & \\textbf{5} & \\textbf{6}\\\\\n",
    "\\textbf{1} & 0& 1& 1& 0& 0& 0\\\\\n",
    "\\textbf{2} & 1& 0& 0& 1& 1& 1\\\\\n",
    "\\textbf{3} & 1& 0& 0& 1& 1& 1\\\\\n",
    "\\textbf{4} & 0& 1& 1& 0& 0& 0\\\\\n",
    "\\textbf{5} & 0& 1& 1& 0& 0& 0\\\\\n",
    "\\textbf{6} & 0& 1& 1& 0& 0& 0\\\\\n",
    "\\end{pmatrix}\n",
    "\\quad 3 = \n",
    "\\begin{pmatrix}\n",
    "&\\textbf{1} & \\textbf{2} & \\textbf{3} & \\textbf{4} & \\textbf{5} & \\textbf{6}\\\\\n",
    "\\textbf{1} & 1& 0& 0& 1& 1& 1\\\\\n",
    "\\textbf{2} & 0& 1& 1& 0& 0& 0\\\\\n",
    "\\textbf{3} & 0& 1& 1& 0& 0& 0\\\\\n",
    "\\textbf{4} & 1& 0& 0& 1& 1& 1\\\\\n",
    "\\textbf{5} & 1& 0& 0& 1& 1& 1\\\\\n",
    "\\textbf{6} & 1& 0& 0& 1& 1& 1\\\\\n",
    "\\end{pmatrix}\n",
    "$$"
   ]
  },
  {
   "cell_type": "code",
   "execution_count": 104,
   "metadata": {},
   "outputs": [
    {
     "data": {
      "application/vnd.jupyter.widget-view+json": {
       "model_id": "92a372d0ad5c417bb026da862f474633",
       "version_major": 2,
       "version_minor": 0
      },
      "text/plain": [
       "RadioButtons(description='A = ', options=('1', '2', '3'), value=None)"
      ]
     },
     "metadata": {},
     "output_type": "display_data"
    }
   ],
   "source": [
    "radio = widgets.RadioButtons(\n",
    "    options=['1', '2', '3'],\n",
    "    value = None,\n",
    "    description='A = ',\n",
    "    disabled=False\n",
    ")\n",
    "radio"
   ]
  },
  {
   "cell_type": "code",
   "execution_count": 105,
   "metadata": {},
   "outputs": [
    {
     "name": "stdout",
     "output_type": "stream",
     "text": [
      "Пожалуйста, выберите номер матрицы смежности.\n"
     ]
    }
   ],
   "source": [
    "print(adj_matrix())"
   ]
  },
  {
   "cell_type": "code",
   "execution_count": 106,
   "metadata": {},
   "outputs": [
    {
     "name": "stdout",
     "output_type": "stream",
     "text": [
      "[[0 1 1 0 0 0]\n",
      " [1 0 0 1 1 1]\n",
      " [1 0 0 1 1 1]\n",
      " [0 1 1 0 0 0]\n",
      " [0 1 1 0 0 0]\n",
      " [0 1 1 0 0 0]]\n"
     ]
    }
   ],
   "source": [
    "#тут можно проверить матрицу смежности графа G\n",
    "print(nx.linalg.graphmatrix.adjacency_matrix(G).todense())"
   ]
  },
  {
   "cell_type": "code",
   "execution_count": 107,
   "metadata": {},
   "outputs": [
    {
     "name": "stderr",
     "output_type": "stream",
     "text": [
      "C:\\Users\\Oxanette\\Anaconda3\\lib\\site-packages\\networkx\\drawing\\nx_pylab.py:579: MatplotlibDeprecationWarning: \n",
      "The iterable function was deprecated in Matplotlib 3.1 and will be removed in 3.3. Use np.iterable instead.\n",
      "  if not cb.iterable(width):\n"
     ]
    },
    {
     "data": {
      "image/png": "[encoded data removed]",
      "text/plain": [
       "<Figure size 432x288 with 4 Axes>"
      ]
     },
     "metadata": {},
     "output_type": "display_data"
    }
   ],
   "source": [
    "pet = nx.petersen_graph()\n",
    "tutte = nx.tutte_graph()\n",
    "sed = nx.sedgewick_maze_graph()\n",
    "tet = nx.tetrahedral_graph()\n",
    "plt.subplot(221)\n",
    "options = {'node_color': \"lightblue\",\n",
    "          'width': 2, 'node_size': 50}\n",
    "nx.draw(pet, **options, with_labels=False, font_weight='bold')\n",
    "plt.subplot(222)\n",
    "options = {'node_color': \"yellow\",\n",
    "          'width': 2,'node_size': 50}\n",
    "nx.draw(tutte, **options, with_labels=False, font_weight='bold')\n",
    "plt.subplot(223)\n",
    "options = {'node_color': \"green\",\n",
    "          'width': 2,'node_size': 50}\n",
    "nx.draw(sed, **options, with_labels=False, font_weight='bold')\n",
    "plt.subplot(224)\n",
    "options = {'node_color': \"pink\",\n",
    "          'width': 2,'node_size': 50}\n",
    "nx.draw(tet, **options, with_labels=False, font_weight='bold')\n",
    "plt.show()"
   ]
  },
  {
   "cell_type": "code",
   "execution_count": 108,
   "metadata": {},
   "outputs": [
    {
     "name": "stdout",
     "output_type": "stream",
     "text": [
      "[[0 1 1 1]\n",
      " [1 0 1 1]\n",
      " [1 1 0 1]\n",
      " [1 1 1 0]]\n"
     ]
    }
   ],
   "source": [
    "#замените tet в скобках на pet, tutte или sed, чтобы посмотреть матрицы смежности этих графов\n",
    "print(nx.linalg.graphmatrix.adjacency_matrix(tet).todense())"
   ]
  },
  {
   "cell_type": "markdown",
   "metadata": {},
   "source": [
    "**Матрица смежности обыкновенного графа:**\n",
    "\n",
    "* симметричная\n",
    "* содержит нулевую диагональ (т.к. нет петель)\n",
    "* $\n",
    "\\displaystyle\\sum_{j=1}^na_{ij} = deg(i), \\quad i = \\overline{1,n}\n",
    "$ &nbsp; (сумма элементов любой строки совпадает со степенью соответствующей вершины графа).\n",
    "\n"
   ]
  },
  {
   "cell_type": "markdown",
   "metadata": {},
   "source": [
    "<img align=\"left\" src=\"defin.png\"> &nbsp; **Соседством вершины** $i$ в графе $G$ называется множество смежных ей вершин.<br>\n",
    "<img align=\"left\" src=\"obozn.png\">  <br> &nbsp; $N(i) = {j: dist(i,j) = 1}$, где $dist(i,j)$ - расстояние от вершины $i$ до вершины $j$.\n",
    "\n",
    "<img align=\"left\" src=\"zam.png\"> &nbsp; $|N(i)| = deg(i)$\n",
    "(Мощность соседства равна степени вершины $i$)."
   ]
  },
  {
   "cell_type": "code",
   "execution_count": 109,
   "metadata": {},
   "outputs": [
    {
     "name": "stderr",
     "output_type": "stream",
     "text": [
      "C:\\Users\\Oxanette\\Anaconda3\\lib\\site-packages\\networkx\\drawing\\nx_pylab.py:579: MatplotlibDeprecationWarning: \n",
      "The iterable function was deprecated in Matplotlib 3.1 and will be removed in 3.3. Use np.iterable instead.\n",
      "  if not cb.iterable(width):\n"
     ]
    },
    {
     "data": {
      "image/png": "[encoded data removed]",
      "text/plain": [
       "<Figure size 432x288 with 1 Axes>"
      ]
     },
     "metadata": {},
     "output_type": "display_data"
    }
   ],
   "source": [
    "plt.subplot(224)\n",
    "options = {'node_color': \"orange\",\n",
    "          'width': 3,}\n",
    "nx.draw(G, **options, with_labels=True, font_weight='bold')\n",
    "plt.title(\"Граф Г1\")\n",
    "plt.show()"
   ]
  },
  {
   "cell_type": "code",
   "execution_count": 110,
   "metadata": {},
   "outputs": [
    {
     "name": "stdout",
     "output_type": "stream",
     "text": [
      "Соседи вершины:  [3, 2]  Мощность соседства:  2\n"
     ]
    }
   ],
   "source": [
    "#соседи вершины x и мощность соседства:\n",
    "x = 4\n",
    "print('Соседи вершины: ', list(G.neighbors(x)),' Мощность соседства: ', len(list(G.neighbors(x))))"
   ]
  },
  {
   "cell_type": "markdown",
   "metadata": {},
   "source": [
    "<img align=\"left\" src=\"defin.png\"> &nbsp; **Следом** матрицы $A$ называется сумма диагональных элементов матрицы $A$.<br> <br> \n",
    "<img align=\"left\" src=\"obozn.png\"> &nbsp; $Tr(A) = \\displaystyle\\sum_{i=1}^na_{ii}$\n",
    "\n",
    "**Маршрут в графе** <br>Если мы зафиксировали две вершины в обыкновенном связном графе, между этими двумя вершинами всегда можно проложить какой-то маршрут от вершины к вершине по ребрам. Ребра и вершины могут повторяться.\n",
    "\n",
    "<img align=\"left\" src=\"defin.png\"> &nbsp; **Путь** $-$ маршрут, в котором рёбра не повторяются. <br><br>\n",
    "\n",
    "<img align=\"left\" src=\"defin.png\"> &nbsp; **Простой путь** $-$ маршрут, в котором ни рёбра, ни вершины не повторяются.<br><br>\n",
    "\n",
    "<img align=\"left\" src=\"defin.png\"> &nbsp; **Кратчайший путь** $-$ кратчайшее расстояние между вершинами."
   ]
  },
  {
   "cell_type": "markdown",
   "metadata": {},
   "source": [
    "![title](punkt_2.png)\n",
    "\n",
    "Степени матрицы смежности задают **число путей** фиксированной длины между двумя заданными вершинами.<br>\n",
    "<img align=\"left\" src=\"theorem.png\"> <br><br><br>\n",
    "Пусть $\\Gamma = (V,E)$ имеет матрицу смежности $A = A(G)$ и пусть $B = A^k$, где $k$ - некоторое целое число. <br> Тогда $b_{ij}$ равен числу $(i,j)$-путей длины k в графе $\\Gamma$.<br>\n",
    "<img align=\"left\" src=\"proof.png\"><br><br><br>\n",
    "Воспользуемся индукцией по $k$.\n",
    "Пусть $k = 1, B = A^1 = A$, тогда теорема выполняется.\n",
    "\n",
    "Предположим, что условие теоремы выполняется для $k-1$, т.е. для $C = A^{k-1}$.<br>\n",
    "(Каждый элемент матрицы $C$ соответствует числу путей между вершинами $i$ и $j$ длины $k-1$).<br>\n",
    "Докажем индукционный переход от $k-1$ к $k$.<br>\n",
    "Рассмотрим элемент $b_{ij}$.<br>\n",
    "$B = C \\cdot A$<br>\n",
    "$b_{ij} = \\displaystyle\\sum_{s=1}^nc_{is}\\cdot a_{sj}$, где $c_{is} > 0$ и $a_{sj} > 0$.<br>\n",
    "По индукционному предположению:\n",
    "* $c_{is}$ $-$ это число $(i,s)$-путей длины $k-1$;\n",
    "* $a_{sj}$ соответствует дополнительному ребру $\\{s,j\\}$.<br>\n",
    "<img align=\"left\" src=\"ijpaths.png\">"
   ]
  },
  {
   "cell_type": "code",
   "execution_count": 111,
   "metadata": {},
   "outputs": [
    {
     "name": "stdout",
     "output_type": "stream",
     "text": [
      "[[0 1 0 0 1 1 0 0 0 0]\n",
      " [1 0 1 0 0 0 1 0 0 0]\n",
      " [0 1 0 1 0 0 0 1 0 0]\n",
      " [0 0 1 0 1 0 0 0 1 0]\n",
      " [1 0 0 1 0 0 0 0 0 1]\n",
      " [1 0 0 0 0 0 0 1 1 0]\n",
      " [0 1 0 0 0 0 0 0 1 1]\n",
      " [0 0 1 0 0 1 0 0 0 1]\n",
      " [0 0 0 1 0 1 1 0 0 0]\n",
      " [0 0 0 0 1 0 1 1 0 0]]\n"
     ]
    }
   ],
   "source": [
    "#Матрица смежности графа Петерсена: (можно вместо графа Петерсена другой выбрать и посмотреть, что с ним получится)\n",
    "A = nx.linalg.graphmatrix.adjacency_matrix(G_pet).todense()\n",
    "print(A)"
   ]
  },
  {
   "cell_type": "code",
   "execution_count": 112,
   "metadata": {},
   "outputs": [
    {
     "name": "stdout",
     "output_type": "stream",
     "text": [
      "[[3 0 1 1 0 0 1 1 1 1]\n",
      " [0 3 0 1 1 1 0 1 1 1]\n",
      " [1 0 3 0 1 1 1 0 1 1]\n",
      " [1 1 0 3 0 1 1 1 0 1]\n",
      " [0 1 1 0 3 1 1 1 1 0]\n",
      " [0 1 1 1 1 3 1 0 0 1]\n",
      " [1 0 1 1 1 1 3 1 0 0]\n",
      " [1 1 0 1 1 0 1 3 1 0]\n",
      " [1 1 1 0 1 0 0 1 3 1]\n",
      " [1 1 1 1 0 1 0 0 1 3]]\n"
     ]
    }
   ],
   "source": [
    "#Матрица B = A^k, где каждый элемент - это число путей длины k\n",
    "k = 2\n",
    "B = np.linalg.matrix_power(A, k)\n",
    "print(B)"
   ]
  },
  {
   "cell_type": "code",
   "execution_count": 113,
   "metadata": {},
   "outputs": [
    {
     "name": "stderr",
     "output_type": "stream",
     "text": [
      "C:\\Users\\Oxanette\\Anaconda3\\lib\\site-packages\\networkx\\drawing\\nx_pylab.py:579: MatplotlibDeprecationWarning: \n",
      "The iterable function was deprecated in Matplotlib 3.1 and will be removed in 3.3. Use np.iterable instead.\n",
      "  if not cb.iterable(width):\n"
     ]
    },
    {
     "data": {
      "image/png": "[encoded data removed]",
      "text/plain": [
       "<Figure size 432x288 with 1 Axes>"
      ]
     },
     "metadata": {},
     "output_type": "display_data"
    }
   ],
   "source": [
    "plt.subplot(222)\n",
    "options = {'node_color': \"yellow\",\n",
    "          'width': 2,}\n",
    "nx.draw(G_pet, **options, with_labels=True, font_weight='bold')\n",
    "plt.show()"
   ]
  },
  {
   "cell_type": "markdown",
   "metadata": {},
   "source": [
    "<img align=\"left\" src=\"defin.png\"> &nbsp; **След** матрицы $A$ порядка $n$ $-$ это сумма её диагональных элементов.<br>\n",
    "<img align=\"left\" src=\"obozn.png\"> &nbsp; $Tr(A) = \\displaystyle\\sum_{i=1}^na_{ii}$<br>\n",
    "<img align=\"left\" src=\"sled.png\"> <br>&nbsp; Число замкнутых путей длины $k$ в графе $\\Gamma$ равно $Tr(A^k)$.<br>\n",
    "<img align=\"left\" src=\"sled.png\"> <br>&nbsp; Для матрицы смежности $A$ любого обыкновенного графа $\\Gamma = (V,E)$ справедливо:<br>\n",
    "* $Tr(A^0) = Tr(I) = n$\n",
    "* $Tr(A) = 0$\n",
    "* $Tr(A^2) = 2 \\cdot m$, где $m = |E(\\Gamma)|$\n",
    "* $Tr(A^3) = 6 \\cdot t,$ где $t$ $-$ число циклов $C_3$ в графе $\\Gamma$<br>\n",
    "\n",
    "Первый пункт очевиден, при возведении матрицы смежности в нулевую степень получаем единичную матрицу.<br>\n",
    "Второй пункт очевиден, в обыкновенном графе нет петель и кратных рёбер, следовательно все элементы на диагонали $-$ нули.<br>\n",
    "Третий пункт следует из того, что замкнутый путь длины 2 представляет собой проход по ребру и обратно в исходную вершину.<br>\n",
    "Четвертый пункт доказывается аналогично.\n"
   ]
  },
  {
   "cell_type": "markdown",
   "metadata": {},
   "source": [
    "![title](punkt_3.png)"
   ]
  },
  {
   "cell_type": "markdown",
   "metadata": {},
   "source": [
    "<img align=\"left\" src=\"defin.png\"> &nbsp; **Характеристическим полиномом** $P_A(\\lambda)$ графа $\\Gamma = (V,E)$, $|V| = n$ называется полином вида $det|\\lambda I - A| = 0$, где $A = A(\\Gamma)$, $I$ - единичная матрица, $\\lambda$ - собственные значения $A$.<br>\n",
    "**Характеристический полином** графа $-$ это характеристический полином его матрицы смежности.<br>\n",
    "<img align=\"left\" src=\"obozn.png\"> &nbsp; <br> $P_A(\\lambda) = det|\\lambda I - A|$.<br>\n",
    "<img align=\"left\" src=\"zam.png\"> &nbsp; <br>Корни $\\lambda$ характеристического полинома $P_A(\\lambda)$ являются собственными значениями графа $\\Gamma$<br>\n",
    "Пусть $x = (x_1,\\dots,x_n)^T -$ собственный (ненулевой) вектор, соответствующий некоторому собственному значению $\\lambda$.<br>\n",
    "Тогда $Ax = \\lambda x$ имеет нетривиальное решение.<br>\n",
    "$(\\lambda - A)*x = 0$.<br>\n",
    "Следовательно, матрица вида $(\\lambda I - A) - $ вырожденная, значит ее определитель равен 0.<br>\n",
    "Рассмотрим в качестве примера $P_3$:"
   ]
  },
  {
   "cell_type": "code",
   "execution_count": 114,
   "metadata": {},
   "outputs": [
    {
     "data": {
      "image/png": "[encoded data removed]",
      "text/plain": [
       "<Figure size 432x288 with 1 Axes>"
      ]
     },
     "metadata": {},
     "output_type": "display_data"
    }
   ],
   "source": [
    "G_test = nx.Graph()\n",
    "G_test.add_nodes_from([1,2,3])\n",
    "G_test.add_edges_from([(1,2),(2,3)])\n",
    "plt.subplot(224)\n",
    "options = {'node_color': \"lightblue\",\n",
    "          'width': 2,}\n",
    "nx.draw(G_test, **options, with_labels=True, font_weight='bold')\n",
    "plt.title(\"Граф $P_3$\")\n",
    "plt.show()"
   ]
  },
  {
   "cell_type": "markdown",
   "metadata": {},
   "source": [
    "Матрица смежности $P_3$:<br>\n",
    "$\n",
    "A(P_3) =\n",
    "\\begin{pmatrix}\n",
    "0 & 1 & 0 \\\\\n",
    "1 & 0 & 1 \\\\\n",
    "0 & 1 & 0\n",
    "\\end{pmatrix}\n",
    "$\n",
    "<br>\n",
    "Мы можем по-другому занумеровать вершины и тогда матрица смежности будет выглядеть по-другому, однако характеристический полином, являясь инвариантом, для всех матриц изоморфных графов даст одни и те же корни.<br>\n",
    "Построим полином по данной матрице:<br>\n",
    "$\n",
    "P_A(\\lambda) = (\\lambda I - A) = det\n",
    "\\begin{pmatrix}\n",
    "\\lambda & -1 & 0\\\\\n",
    "-1 & \\lambda & -1\\\\\n",
    "0 & -1 & \\lambda\n",
    "\\end{pmatrix}\n",
    "$<br>\n",
    "$\\lambda(\\lambda^2 - 1) - (-1)(-\\lambda) = \\lambda(\\lambda^2 - 2) = 0$ =>: <br>\n",
    "Корни характеристического полинома:<br>\n",
    "$\\lambda_1 = 0$<br>\n",
    "$\\lambda_2 = \\sqrt{2}$<br>\n",
    "$\\lambda_3 = -\\sqrt{2}$<br>\n",
    "Когда мы по матрице смежности находим корни характеристического полинома, мы тем самым находим его собственные значения.<br>\n",
    "Вспомним свойства определителей.<br>\n",
    "* $det(I) = 1$\n",
    "* $det(cA) = c^n * det(A)$, где $A$ - матрица $n*n$ и $c$ $-$ коэффициент\n",
    "* $det(A*B) = det(A)*det(B)$\n",
    "* $det(A^T) = det(A)$\n",
    "* $det(A^{-1} = (detA)^{-1}$<br>\n",
    "\n",
    "Существует ненулевое решение уравнения $Ax = 0 \\Leftrightarrow det(A) = 0$."
   ]
  },
  {
   "cell_type": "code",
   "execution_count": 115,
   "metadata": {},
   "outputs": [
    {
     "data": {
      "text/latex": [
       "$\\displaystyle \\operatorname{PurePoly}{\\left( \\lambda^{3} - 2 \\lambda, \\lambda, domain=\\mathbb{Z} \\right)}$"
      ],
      "text/plain": [
       "PurePoly(lambda**3 - 2*lambda, lambda, domain='ZZ')"
      ]
     },
     "execution_count": 115,
     "metadata": {},
     "output_type": "execute_result"
    }
   ],
   "source": [
    "#Тут можно поэкспериментировать с характеристическим полиномом разных графов\n",
    "#(заметите G_test на G_pet для графа Петерсена, к примеру)\n",
    "A_P3 = nx.linalg.graphmatrix.adjacency_matrix(G_test).todense()\n",
    "from sympy import Matrix\n",
    "M = Matrix(A_P3)\n",
    "M.charpoly()"
   ]
  },
  {
   "cell_type": "code",
   "execution_count": 116,
   "metadata": {},
   "outputs": [
    {
     "data": {
      "text/plain": [
       "{-sqrt(2): 1, sqrt(2): 1, 0: 1}"
      ]
     },
     "execution_count": 116,
     "metadata": {},
     "output_type": "execute_result"
    }
   ],
   "source": [
    "#Корни характеристического полинома:\n",
    "M.eigenvals()"
   ]
  },
  {
   "cell_type": "markdown",
   "metadata": {},
   "source": [
    "![title](punkt_4_1.png)\n",
    "![title](punkt_4_2.png)\n"
   ]
  },
  {
   "cell_type": "markdown",
   "metadata": {},
   "source": [
    "Вспомним, что такое $k$-регулярный граф.<br>\n",
    "<img align=\"left\" src=\"defin.png\">  <br>&nbsp;\n",
    "Граф $\\Gamma$ называется **регулярным** степени $k$, если каждая его вершина имеет степень $k$. <br>\n",
    "Цикл $C_n$ любой длины $n -$ это **2-регулярный граф**.<br>\n",
    "Примеры 2-регулярных графов:"
   ]
  },
  {
   "cell_type": "code",
   "execution_count": 117,
   "metadata": {},
   "outputs": [
    {
     "name": "stderr",
     "output_type": "stream",
     "text": [
      "C:\\Users\\Oxanette\\Anaconda3\\lib\\site-packages\\networkx\\drawing\\nx_pylab.py:579: MatplotlibDeprecationWarning: \n",
      "The iterable function was deprecated in Matplotlib 3.1 and will be removed in 3.3. Use np.iterable instead.\n",
      "  if not cb.iterable(width):\n"
     ]
    },
    {
     "data": {
      "image/png": "[encoded data removed]",
      "text/plain": [
       "<Figure size 432x288 with 4 Axes>"
      ]
     },
     "metadata": {},
     "output_type": "display_data"
    }
   ],
   "source": [
    "G_test = nx.Graph()\n",
    "G_test.add_nodes_from([1,2,3,4,5,6])\n",
    "G_test.add_edges_from([(1,2),(2,3),(3,4),(4,5),(5,6),(1,6)])\n",
    "G_next = nx.Graph()\n",
    "G_next.add_nodes_from([1,2,3,4,5])\n",
    "G_next.add_edges_from([(1,2),(2,3),(3,4),(4,5),(1,5)])\n",
    "G_next4 = nx.Graph()\n",
    "G_next4.add_nodes_from([1,2,3,4])\n",
    "G_next4.add_edges_from([(1,2),(2,3),(3,4),(1,4)])\n",
    "G_next3 = nx.Graph()\n",
    "G_next3.add_nodes_from([1,2,3])\n",
    "G_next3.add_edges_from([(1,2),(2,3),(1,3)])\n",
    "plt.subplot(221)\n",
    "options = {'node_color': \"lightblue\",\n",
    "          'width': 2,}\n",
    "nx.draw(G_test, **options, with_labels=False, font_weight='bold')\n",
    "plt.subplot(222)\n",
    "options = {'node_color': \"yellow\",\n",
    "          'width': 2,}\n",
    "nx.draw(G_next, **options, with_labels=False, font_weight='bold')\n",
    "plt.subplot(223)\n",
    "options = {'node_color': \"green\",\n",
    "          'width': 2,}\n",
    "nx.draw(G_next4, **options, with_labels=False, font_weight='bold')\n",
    "plt.subplot(224)\n",
    "options = {'node_color': \"pink\",\n",
    "          'width': 2,}\n",
    "nx.draw(G_next3, **options, with_labels=False, font_weight='bold')\n",
    "plt.show()"
   ]
  },
  {
   "cell_type": "markdown",
   "metadata": {},
   "source": [
    "Регулярный граф степени 3 называется **кубическим графом**.<br>\n",
    "Примеры кубических графов (граф куба и граф Петерсена):"
   ]
  },
  {
   "cell_type": "code",
   "execution_count": 118,
   "metadata": {},
   "outputs": [
    {
     "data": {
      "image/png": "[encoded data removed]",
      "text/plain": [
       "<Figure size 432x288 with 2 Axes>"
      ]
     },
     "metadata": {},
     "output_type": "display_data"
    }
   ],
   "source": [
    "G_cube = nx.Graph()\n",
    "G_cube.add_nodes_from([1,2,3,4,5,6,8])\n",
    "G_cube.add_edges_from([(1,2),(1,7),(1,3),(7,5),(7,8),(8,2),(8,6),(2,4),(6,5),(6,4),(5,3),(3,4)])\n",
    "G_pet = nx.petersen_graph()\n",
    "plt.subplot(221)\n",
    "options = {'node_color': \"lightblue\",\n",
    "          'width': 2,}\n",
    "nx.draw(G_cube, **options, with_labels=False, font_weight='bold')\n",
    "plt.subplot(222)\n",
    "options = {'node_color': \"yellow\",\n",
    "          'width': 2,}\n",
    "nx.draw(G_pet, **options, with_labels=False, font_weight='bold')\n",
    "plt.show()"
   ]
  },
  {
   "cell_type": "markdown",
   "metadata": {},
   "source": [
    "<img align=\"left\" src=\"theorem.png\"> <br><br><br>\n",
    "Пусть $\\Gamma = (V,E) - k$-регулярный граф порядка $n$. <br>\n",
    "Тогда верны следующие утверждения:<br>\n",
    "* единичный вектор $1^n = (1,\\dots,1)^T$ длины $n$ является **собственным вектором** графа $\\Gamma$ для собственного значения $k$ с кратностью 1,\n",
    "* модуль любого корня характеристического полинома графа $\\Gamma$ не превосходит $k$.<br>\n",
    "\n",
    "*Когда мы говорим о том, что мы ищем корни характеристического полинома графа $-$ это то же самое, что мы ищем собственные значения графа*.<br>\n",
    "<img align=\"left\" src=\"proof.png\"> <br><br><br>\n",
    "Первое утверждение доказывается по определению матрицы смежности.<br>\n",
    "Так как граф $\\Gamma -$ регулярный, $A*1^n = k*1^n$<br>\n",
    "=> $k -$ собственное значение кратности 1.<br>\n",
    "Для доказательства второго утверждения возьмем вектор $x = (x_1,\\dots,x_n)^T$ длины $n - $ собственный вектор матрицы смежности $A(\\Gamma)$, отвечающий некоторому собственному значению $\\lambda$, и пусть $x_j = \\displaystyle\\max_{i=1,\\dots,n}|x_i|$.<br>\n",
    "*(На $j$-й позиции максимальное по модулю значение $x_i$)*.\n",
    "Поскольку $x$ является собственным вектором для собственного значения $\\lambda$ нашей матрицы, выполняется условие:<br>\n",
    "$Ax = \\lambda x$.<br>\n",
    "Рассмотрим модули элементов, получающиеся на $j$-й позиции в левых и правых частях. Получаем:<br>\n",
    "$|\\lambda|\\cdot|x_j| = |(Ax)_j| = |\\displaystyle\\sum_{i\\in N(j)}x_i| \\leq \\displaystyle\\sum_{i \\in N(j)}|x_i| \\leq k|x_j|$<br>\n",
    "Таким образом **максимальное собственное значение** $k$-регулярного графа в точности равно $k$ с кратностью 1."
   ]
  },
  {
   "cell_type": "markdown",
   "metadata": {},
   "source": [
    "Для примера рассмотрим цикл длины 4."
   ]
  },
  {
   "cell_type": "code",
   "execution_count": 119,
   "metadata": {},
   "outputs": [
    {
     "data": {
      "image/png": "[encoded data removed]",
      "text/plain": [
       "<Figure size 432x288 with 1 Axes>"
      ]
     },
     "metadata": {},
     "output_type": "display_data"
    }
   ],
   "source": [
    "G_next4 = nx.Graph()\n",
    "G_next4.add_nodes_from([1,2,3,4])\n",
    "G_next4.add_edges_from([(1,2),(2,3),(3,4),(1,4)])\n",
    "plt.subplot(221)\n",
    "options = {'node_color': \"lightblue\",\n",
    "          'width': 2,}\n",
    "nx.draw(G_next4, **options, with_labels=True, font_weight='bold')\n",
    "plt.title(\"Граф $C_4$\")\n",
    "plt.show()"
   ]
  },
  {
   "cell_type": "markdown",
   "metadata": {},
   "source": [
    "Он является 2-регулярным.\n",
    "По теореме 2 $-$ это собственное значение $C_4$ с кратностью 1.<br>\n",
    "Все остальные значения по модулю должны быть меньше, чем 2.\n",
    "*А сколько их всего должно быть?*<br>\n",
    "*Мы бёрем граф, строим его матрицу смежности, и после этого рассматриваем только матрицу. Но так как это матрица смежности, это означает, что собственные значения матрицы являются собственными значениями графа.<br>\n",
    "Всего у матрицы $n*n$ должно быть $n$ собственных значений.*<br>\n",
    "Значит для $C_4$ нам нужно найти ещё 3 собственных значения.<br>\n",
    "Рассмотрим матрицу смежности:<br>\n",
    "$\n",
    "A(C_4)=\n",
    "\\begin{pmatrix}\n",
    "0 & 1 & 0 & 1\\\\\n",
    "1 & 0 & 1 & 0\\\\\n",
    "0 & 1 & 0 & 1\\\\\n",
    "1 & 0 & 1 & 0\n",
    "\\end{pmatrix}\n",
    "$<br>\n",
    "$det(\\lambda I - A) = \\lambda^2*(\\lambda-2)*(\\lambda+2) = 0$<br>\n",
    "* $\\lambda_1 = 0$ кратности 2,\n",
    "* $\\lambda_2 = 2$ кратности 1,\n",
    "* $\\lambda_3 = -2$ кратности 1.<br>\n",
    "\n",
    "Получили 4 собственных значения.\n"
   ]
  },
  {
   "cell_type": "markdown",
   "metadata": {},
   "source": [
    "![title](punkt_5.png)"
   ]
  },
  {
   "cell_type": "markdown",
   "metadata": {},
   "source": [
    "<img align=\"left\" src=\"defin.png\">  <br>&nbsp;\n",
    "Пусть $\\Gamma = (V,E)$ порядка $n$ с матрицей смежности $A$. Тогда корни характеристического полинома графа $\\Gamma$ являются собственными значениями $\\lambda$ графа $\\Gamma$ с кратностью $mul(\\lambda)$, так, что под **спектром** понимается множество всех собственных значений и их кратности.<br>\n",
    "<img align=\"left\" src=\"obozn.png\">  <br>&nbsp; $Sp(\\Gamma) = Spec(\\Gamma) = \\{\\lambda_i^{mul(\\lambda_i)}\\}, i = 1,\\dots,n$<br>\n",
    "Альтернативное обозначение:\n",
    "<img align=\"left\" src=\"obozn.png\">  <br>&nbsp; $Spec(\\Gamma) = [\\lambda_1^{mul(\\lambda_1)},\\dots,\\lambda_k^{mul(\\lambda_k)}]$<br><br>\n",
    "\n",
    "Таким образом, спектр цикла $C_4$, собственные значения которого мы уже находили:<br>\n",
    "$Spec(C_4) = [-2^1, 0^2, 2^1]$. Степени обозначают кратности.<br>\n",
    "Мы уже рассчитывали собственные значения графа $P_3$.<br>\n",
    "Какой у него спектр?<br>\n",
    "* A: $[-\\sqrt{2}^1, 0^1, \\sqrt{2}^1]$\n",
    "* B: $[-\\sqrt{2}^1, 0^2, \\sqrt{2}^1]$\n",
    "* C: $[-2^2, \\sqrt{2}^2, \\sqrt{4}^1]$"
   ]
  },
  {
   "cell_type": "code",
   "execution_count": 120,
   "metadata": {},
   "outputs": [
    {
     "data": {
      "application/vnd.jupyter.widget-view+json": {
       "model_id": "3871b75f0a7646b084ee90a33f606fd4",
       "version_major": 2,
       "version_minor": 0
      },
      "text/plain": [
       "RadioButtons(description='Spec(P3) = ', options=('A', 'B', 'C'), value=None)"
      ]
     },
     "metadata": {},
     "output_type": "display_data"
    }
   ],
   "source": [
    "radio2 = widgets.RadioButtons(\n",
    "    options=['A', 'B', 'C'],\n",
    "    value = None,\n",
    "    description='Spec(P3) = ',\n",
    "    disabled=False\n",
    ")\n",
    "radio2"
   ]
  },
  {
   "cell_type": "code",
   "execution_count": 121,
   "metadata": {},
   "outputs": [
    {
     "name": "stdout",
     "output_type": "stream",
     "text": [
      "Пожалуйста, выберите спектр графа.\n"
     ]
    }
   ],
   "source": [
    "print(p4_spec())"
   ]
  },
  {
   "cell_type": "code",
   "execution_count": 122,
   "metadata": {},
   "outputs": [
    {
     "data": {
      "text/plain": [
       "array([ 2.+0.j, -2.+0.j,  0.+0.j,  0.+0.j])"
      ]
     },
     "execution_count": 122,
     "metadata": {},
     "output_type": "execute_result"
    }
   ],
   "source": [
    "#Проверка спектра графа\n",
    "nx.adjacency_spectrum(G_next4)"
   ]
  },
  {
   "cell_type": "code",
   "execution_count": 123,
   "metadata": {},
   "outputs": [
    {
     "data": {
      "text/plain": [
       "array([-2.+0.j,  1.+0.j,  3.+0.j,  1.+0.j, -2.+0.j, -2.+0.j, -2.+0.j,\n",
       "        1.+0.j,  1.+0.j,  1.+0.j])"
      ]
     },
     "execution_count": 123,
     "metadata": {},
     "output_type": "execute_result"
    }
   ],
   "source": [
    "#можно посмотреть спектры других графов, например Петерсена:\n",
    "#(Замените G_pet на какой-нибудь из предыдущих графов, рассмотренных выше, и посмотрите различные спектры)\n",
    "nx.adjacency_spectrum(G_pet)"
   ]
  },
  {
   "cell_type": "markdown",
   "metadata": {},
   "source": [
    "**Полезные факты**<br>\n",
    "$\\color{blue}{\\text{Факт №1}}$<br>\n",
    "Пусть $\\Gamma = (V,E), |V| = n, A = A(\\Gamma)$<br>\n",
    "Пусть $\\lambda_i - $ собственные значения $A$ с кратностью $mul(\\lambda_i), \\quad i = 1,\\dots,n$<br>\n",
    "Тогда $\\displaystyle\\sum_{i=1}^n mul(\\lambda_i) = n$.\n",
    "*(Сумма кратностей различных собственных значений графа порядка $n$ совпадает с порядком этого графа)*.<br>\n",
    "Эта формула является очень удобной для проверки вычислений, когда вы высчитываете кратности собственных значений вашего графа.<br>\n",
    "\n",
    "\n",
    "$\\color{blue}{\\text{Факт №2}}$<br>\n",
    "Пусть $\\Gamma_1 = (V_1,E_1)$ и $\\Gamma_2 = (V_2,E_2)$ $-$ обыкновенные графы, $V_1 \\cap V_2 = \\emptyset$.<br>\n",
    "$Sp(\\Gamma_1), Sp(\\Gamma_2) - $ спектры графов $\\Gamma_1$ и $\\Gamma_2$, соответственно. <br>\n",
    "Для графа $\\Gamma = \\Gamma_1 \\cup \\Gamma_2$ его $Sp(\\Gamma) = Sp(\\Gamma_1) \\cup Sp(\\Gamma_2)$.<br>\n",
    "Матрица графа $\\Gamma$ будет блочная диагональная, в таком случае неважно, как искать собственные значения, для всей матрицы или для каждого блока отдельно.<br>\n",
    "К примеру $Sp(C_4 \\cup C_4) = [-2^2, 0^4, 2^2]$.<br>\n",
    "Таким образом, если мы нашли спектр того и другого графа, то мы знаем, как их объединять.<br>\n",
    "$Sp(C_4 \\cup P_3) = [-2^1, -\\sqrt{2}^1, 0^3, \\sqrt{2^1}, 2^1]$. <br>\n",
    "|V| = 7, 7 собственных значений, значит всё верно."
   ]
  },
  {
   "cell_type": "markdown",
   "metadata": {},
   "source": [
    "Существует открытая проблема $-$ характеризация целочисленных графов (1974).<br>\n",
    "Среди 2-регулярных графов (циклов) имеется только три целочисленных графа: это $C_3, C_4$ и $C_5$.<br>\n",
    "$Sp(C_3) = [-1^2, 2]$<br>\n",
    "$Sp(C_4) = [-2^1, 0^2, 2^1]$<br>\n",
    "$Sp(C_6) = [-2^1, -1^2, 1^2, 2^1]$<br>\n",
    "Обратите внимание на то, как устроен спектр $C_6$. Есть значения 1 и -1, 2 и -2. Если такая ситуация встречается, мы часто используем обозначение:<br>\n",
    "$Sp(C_6) = [\\pm1^2,\\pm^1]$<br>\n",
    "В 1978 доказана теорема, что всего существует только 13 целочисленных кубических графов.<br>\n",
    "Фактически существует характеризация целочисленных графов, являющихся 2-регулярными и 3-регулярными. Уже для 4-регулярных графов такой характеризации не существует."
   ]
  },
  {
   "cell_type": "markdown",
   "metadata": {},
   "source": [
    "![title](punkt_6.png)"
   ]
  },
  {
   "cell_type": "markdown",
   "metadata": {},
   "source": [
    "Инвариант $-$ это некая графовая характеристика, которая в точности задает один-единственный граф.<br>\n",
    "Была надежда, что спектр будет являться инвариантом, но оказалось, что нет, так как спектр не характеризует граф однозначно.<br>\n",
    "<img align=\"left\" src=\"defin.png\">  <br>&nbsp; Пусть $\\Gamma_1 = (V_1, E_1), \\Gamma_2 = (V_2,E_2), \\Gamma_1 \\ncong \\Gamma_2$.<br>\n",
    "*($\\Gamma_1$ не изоморфен $\\Gamma_2$)*.\n",
    "Тогда если $Sp(\\Gamma_1) = Sp(\\Gamma_2)$, то $\\Gamma_1$ и $\\Gamma_2$ называются **изоспектральными**.<br>\n",
    "Изоспектральные графы необязательно изоморфные."
   ]
  },
  {
   "cell_type": "code",
   "execution_count": 80,
   "metadata": {},
   "outputs": [
    {
     "data": {
      "image/png": "[encoded data removed]",
      "text/plain": [
       "<Figure size 432x288 with 2 Axes>"
      ]
     },
     "metadata": {},
     "output_type": "display_data"
    }
   ],
   "source": [
    "G_с4 = nx.Graph()\n",
    "G_с4.add_nodes_from([1,2,3,4,5])\n",
    "G_с4.add_edges_from([(1,2),(2,3),(3,4),(1,4)])\n",
    "G_k14 = nx.Graph()\n",
    "G_k14.add_nodes_from([1,2,3,4,5])\n",
    "G_k14.add_edges_from([(1,2),(1,3),(1,4),(1,5)])\n",
    "plt.subplot(221)\n",
    "options = {'node_color': \"magenta\",\n",
    "          'width': 2, 'node_size': 50}\n",
    "nx.draw(G_с4, **options, with_labels=False, font_weight='bold')\n",
    "plt.subplot(222)\n",
    "options = {'node_color': \"blue\",\n",
    "          'width': 2,'node_size': 50}\n",
    "nx.draw(G_k14, **options, with_labels=False, font_weight='bold')\n",
    "plt.show()"
   ]
  },
  {
   "cell_type": "markdown",
   "metadata": {},
   "source": [
    "Пример:<br>\n",
    "$\\Gamma_1 = C_4 \\cup K_1$, $\\Gamma_2 = K_{1,4}$.<br>\n",
    "Эти графы не изоморфные, однако их спектр совпадает:<br>\n",
    "$Sp(C_4 \\cup K_1) = Sp(K_{1,4}) = [-2^1,0^3,2^1]$.\n"
   ]
  },
  {
   "cell_type": "markdown",
   "metadata": {},
   "source": [
    "Если рассмотреть графы порядка 2 и 3, среди них нет изоспектральных графов."
   ]
  },
  {
   "cell_type": "code",
   "execution_count": 81,
   "metadata": {},
   "outputs": [
    {
     "data": {
      "image/png": "[encoded data removed]",
      "text/plain": [
       "<Figure size 432x288 with 2 Axes>"
      ]
     },
     "metadata": {},
     "output_type": "display_data"
    }
   ],
   "source": [
    "G_2 = nx.Graph()\n",
    "G_2.add_nodes_from([1,2])\n",
    "G_2.add_edges_from([(1,2)])\n",
    "G_20 = nx.Graph()\n",
    "G_20.add_nodes_from([1,2])\n",
    "\n",
    "plt.subplot(221)\n",
    "options = {'node_color': \"purple\",\n",
    "          'width': 2, 'node_size': 50}\n",
    "nx.draw(G_2, **options, with_labels=False, font_weight='bold')\n",
    "plt.subplot(222)\n",
    "options = {'node_color': \"orange\",\n",
    "          'width': 2,'node_size': 50}\n",
    "nx.draw(G_20, **options, with_labels=False, font_weight='bold')\n",
    "plt.show()"
   ]
  },
  {
   "cell_type": "code",
   "execution_count": 66,
   "metadata": {},
   "outputs": [
    {
     "data": {
      "image/png": "[encoded data removed]",
      "text/plain": [
       "<Figure size 432x288 with 2 Axes>"
      ]
     },
     "metadata": {},
     "output_type": "display_data"
    },
    {
     "data": {
      "image/png": "[encoded data removed]",
      "text/plain": [
       "<Figure size 432x288 with 2 Axes>"
      ]
     },
     "metadata": {},
     "output_type": "display_data"
    }
   ],
   "source": [
    "G_30 = nx.Graph()\n",
    "G_30.add_nodes_from([1,2,3])\n",
    "G_31 = nx.Graph()\n",
    "G_31.add_nodes_from([1,2,3])\n",
    "G_31.add_edges_from([(1,2)])\n",
    "G_32 = nx.Graph()\n",
    "G_32.add_nodes_from([1,2,3])\n",
    "G_32.add_edges_from([(1,2), (1,3)])\n",
    "G_33 = nx.Graph()\n",
    "G_33.add_nodes_from([1,2,3])\n",
    "G_33.add_edges_from([(1,2), (1,3), (2,3)])\n",
    "plt.subplot(221)\n",
    "options = {'node_color': \"purple\",\n",
    "          'width': 2, 'node_size': 50}\n",
    "nx.draw(G_30, **options, with_labels=False, font_weight='bold')\n",
    "plt.subplot(222)\n",
    "options = {'node_color': \"orange\",\n",
    "          'width': 2,'node_size': 50}\n",
    "nx.draw(G_31, **options, with_labels=False, font_weight='bold')\n",
    "plt.show()\n",
    "plt.subplot(223)\n",
    "options = {'node_color': \"green\",\n",
    "          'width': 2, 'node_size': 50}\n",
    "nx.draw(G_32, **options, with_labels=False, font_weight='bold')\n",
    "plt.subplot(224)\n",
    "options = {'node_color': \"cyan\",\n",
    "          'width': 2,'node_size': 50}\n",
    "nx.draw(G_33, **options, with_labels=False, font_weight='bold')\n",
    "plt.show()"
   ]
  }
 ],
 "metadata": {
  "kernelspec": {
   "display_name": "Python 3",
   "language": "python",
   "name": "python3"
  },
  "language_info": {
   "codemirror_mode": {
    "name": "ipython",
    "version": 3
   },
   "file_extension": ".py",
   "mimetype": "text/x-python",
   "name": "python",
   "nbconvert_exporter": "python",
   "pygments_lexer": "ipython3",
   "version": "3.7.4"
  }
 },
 "nbformat": 4,
 "nbformat_minor": 2
}
